{
 "cells": [
  {
   "cell_type": "code",
   "execution_count": 1,
   "metadata": {},
   "outputs": [
    {
     "name": "stdout",
     "output_type": "stream",
     "text": [
      ">*<>*<>*<>*<>*<>*<>*<>*<>*<>*<>*<>*<>*<>*<>*<>*<>*<>*<>*<>*<\n",
      "Назарій почав працювати над цікавим проєктом 08.12.2024 12:35:15. \n",
      "Львів — чудове місто з сонячна погода сьогодні. \n",
      "Назарій працює у творчому піднесенні і планує досягти великих результатів!\n",
      "<*><*><*><*><*><*><*><*><*><*><*><*><*><*><*><*><*><*><*><*>\n"
     ]
    }
   ],
   "source": [
    "from datetime import datetime\n",
    "import random  # Додано для випадкового вибору погоди та настрою\n",
    "\n",
    "# Змінні з інформацією\n",
    "name = \"Назарій\"\n",
    "location = \"Львів\"\n",
    "activity = \"працювати над цікавим проєктом\"  # Більш конкретна діяльність\n",
    "\n",
    "# Списки для випадкового вибору погоди та настрою\n",
    "weather_options = [\"сонячна погода\", \"хмарно з проясненнями\", \"легкий дощ\", \"снігопад\", \"теплий вітерець\"]\n",
    "mood_options = [\"натхненно\", \"енергійно\", \"зосереджено\", \"спокійно\", \"у творчому піднесенні\"]\n",
    "\n",
    "# Випадковий вибір погоди та настрою\n",
    "weather = random.choice(weather_options)\n",
    "mood = random.choice(mood_options)\n",
    "\n",
    "# Отримуємо поточний час у форматі \"день.місяць.рік години:хвилини\"\n",
    "current_time = datetime.now().strftime(\"%d.%m.%Y %H:%M:%S\")\n",
    "\n",
    "# Вивід інформації\n",
    "message = f\"\"\"{\">*<\"*20}\n",
    "{name} почав {activity} {current_time}. \n",
    "{location} — чудове місто з {weather} сьогодні. \n",
    "{name} працює {mood} і планує досягти великих результатів!\n",
    "{\"<*>\"*20}\"\"\"\n",
    "\n",
    "print(message)\n"
   ]
  }
 ],
 "metadata": {
  "kernelspec": {
   "display_name": "Python 3",
   "language": "python",
   "name": "python3"
  },
  "language_info": {
   "codemirror_mode": {
    "name": "ipython",
    "version": 3
   },
   "file_extension": ".py",
   "mimetype": "text/x-python",
   "name": "python",
   "nbconvert_exporter": "python",
   "pygments_lexer": "ipython3",
   "version": "3.13.0"
  }
 },
 "nbformat": 4,
 "nbformat_minor": 2
}
